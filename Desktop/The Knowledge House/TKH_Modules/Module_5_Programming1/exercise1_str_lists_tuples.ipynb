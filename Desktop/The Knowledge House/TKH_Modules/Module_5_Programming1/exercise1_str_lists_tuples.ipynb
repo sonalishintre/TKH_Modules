{
 "cells": [
  {
   "cell_type": "markdown",
   "metadata": {},
   "source": [
    "# Python fundamentals Exercises (Expressions, Strings, Lists, Tuples)\n",
    "\n",
    "The notebook intends to help you practice these concepts. Attempt honestly.\n",
    "\n",
    "Instructions/Suggestions:\n",
    "1. Don't forget to copy the expression from the Question to code cell!\n",
    "2. You can use the python documentation anytime you want to learn about a new function or attribute."
   ]
  },
  {
   "cell_type": "markdown",
   "metadata": {},
   "source": [
    "## Q1: What is 84 / 12 + 2 * 2 ?"
   ]
  },
  {
   "cell_type": "code",
   "execution_count": 1,
   "metadata": {},
   "outputs": [
    {
     "name": "stdout",
     "output_type": "stream",
     "text": [
      "11.0\n"
     ]
    }
   ],
   "source": [
    "# code and test below...\n",
    "nums = (84/12) + (2 *2)\n",
    "print(nums)\n"
   ]
  },
  {
   "cell_type": "markdown",
   "metadata": {},
   "source": [
    "output will be 11.0 in the float "
   ]
  },
  {
   "cell_type": "markdown",
   "metadata": {},
   "source": [
    "## Q2: What is the type of the answer variable in this expression:\n",
    "\n",
    "`answer = 12/4`"
   ]
  },
  {
   "cell_type": "code",
   "execution_count": 2,
   "metadata": {},
   "outputs": [
    {
     "name": "stdout",
     "output_type": "stream",
     "text": [
      "<class 'float'>\n"
     ]
    }
   ],
   "source": [
    "# code and test below...\n",
    "answer = 12/4\n",
    "print(type(answer))"
   ]
  },
  {
   "cell_type": "markdown",
   "metadata": {},
   "source": [
    "It is the float type "
   ]
  },
  {
   "cell_type": "markdown",
   "metadata": {},
   "source": [
    "## Q3: What is the value of num?\n",
    "\n",
    "```python\n",
    "num = 2\n",
    "num = 5*10\n",
    "```"
   ]
  },
  {
   "cell_type": "code",
   "execution_count": 3,
   "metadata": {},
   "outputs": [
    {
     "name": "stdout",
     "output_type": "stream",
     "text": [
      "50\n"
     ]
    }
   ],
   "source": [
    "# code and test below...\n",
    "\n",
    "num =2\n",
    "num = 5 *10\n",
    "print(num)"
   ]
  },
  {
   "cell_type": "markdown",
   "metadata": {},
   "source": [
    "the value of num is 50"
   ]
  },
  {
   "cell_type": "markdown",
   "metadata": {},
   "source": [
    "## Q4: What would this expression evaluate to?\n",
    "\n",
    "`'tom' + 1`"
   ]
  },
  {
   "cell_type": "code",
   "execution_count": 4,
   "metadata": {},
   "outputs": [
    {
     "ename": "TypeError",
     "evalue": "must be str, not int",
     "output_type": "error",
     "traceback": [
      "\u001b[1;31m---------------------------------------------------------------------------\u001b[0m",
      "\u001b[1;31mTypeError\u001b[0m                                 Traceback (most recent call last)",
      "\u001b[1;32m<ipython-input-4-adc6b3dd7516>\u001b[0m in \u001b[0;36m<module>\u001b[1;34m\u001b[0m\n\u001b[0;32m      1\u001b[0m \u001b[1;31m# code and test below...\u001b[0m\u001b[1;33m\u001b[0m\u001b[1;33m\u001b[0m\u001b[1;33m\u001b[0m\u001b[0m\n\u001b[0;32m      2\u001b[0m \u001b[1;33m\u001b[0m\u001b[0m\n\u001b[1;32m----> 3\u001b[1;33m \u001b[1;34m'tom'\u001b[0m \u001b[1;33m+\u001b[0m \u001b[1;36m1\u001b[0m\u001b[1;33m\u001b[0m\u001b[1;33m\u001b[0m\u001b[0m\n\u001b[0m",
      "\u001b[1;31mTypeError\u001b[0m: must be str, not int"
     ]
    }
   ],
   "source": [
    "# code and test below...\n",
    "\n",
    "'tom' + 1"
   ]
  },
  {
   "cell_type": "markdown",
   "metadata": {},
   "source": [
    "It will throw an error, since it both the operenads should be either interger or string when we adding or substracting two variable "
   ]
  },
  {
   "cell_type": "code",
   "execution_count": 48,
   "metadata": {},
   "outputs": [
    {
     "data": {
      "text/plain": [
       "'tom1'"
      ]
     },
     "execution_count": 48,
     "metadata": {},
     "output_type": "execute_result"
    }
   ],
   "source": [
    "# the correct way to write is \n",
    "'tom' + '1'"
   ]
  },
  {
   "cell_type": "markdown",
   "metadata": {},
   "source": [
    "## Q5: What would this expression evaluate to?\n",
    "\n",
    "`'6' + '4'`"
   ]
  },
  {
   "cell_type": "code",
   "execution_count": 6,
   "metadata": {},
   "outputs": [
    {
     "name": "stdout",
     "output_type": "stream",
     "text": [
      "64\n"
     ]
    }
   ],
   "source": [
    "# code and test below...\n",
    "\n",
    "string = '6' + '4'\n",
    "print(string)"
   ]
  },
  {
   "cell_type": "markdown",
   "metadata": {},
   "source": [
    "the output will be in string format "
   ]
  },
  {
   "cell_type": "markdown",
   "metadata": {},
   "source": [
    "## Q6: What would be the output of MyString[5:12] if?\n",
    "\n",
    "`MyString = \"Data Science with Harshit\"`"
   ]
  },
  {
   "cell_type": "code",
   "execution_count": 8,
   "metadata": {},
   "outputs": [
    {
     "name": "stdout",
     "output_type": "stream",
     "text": [
      "Science\n"
     ]
    }
   ],
   "source": [
    "# code and test below...\n",
    "mystring = \"Data Science with Harshit\"\n",
    "print(mystring[5:12])"
   ]
  },
  {
   "cell_type": "markdown",
   "metadata": {},
   "source": [
    "Since we are indexing we need to from the 5 postion to 12 postion so, we get the output as science  "
   ]
  },
  {
   "cell_type": "markdown",
   "metadata": {},
   "source": [
    "## Q7: What would be the output of MyString[5:] if?\n",
    "\n",
    "`MyString = \"Data Science with Harshit\"`"
   ]
  },
  {
   "cell_type": "code",
   "execution_count": 9,
   "metadata": {},
   "outputs": [
    {
     "name": "stdout",
     "output_type": "stream",
     "text": [
      "Science with Harshit\n"
     ]
    }
   ],
   "source": [
    "# code and test below...\n",
    "mystring = \"Data Science with Harshit\"\n",
    "print(mystring[5:])"
   ]
  },
  {
   "cell_type": "markdown",
   "metadata": {},
   "source": [
    "Since we are indexing we need to from the 5 postion, we get the output as science with Harshit"
   ]
  },
  {
   "cell_type": "markdown",
   "metadata": {},
   "source": [
    "## Q8: What would be the output of MyString[5::2] if?\n",
    "\n",
    "`MyString = \"Data Science with Harshit\"`"
   ]
  },
  {
   "cell_type": "code",
   "execution_count": 10,
   "metadata": {},
   "outputs": [
    {
     "name": "stdout",
     "output_type": "stream",
     "text": [
      "Sinewt asi\n"
     ]
    }
   ],
   "source": [
    "# code and test below...\n",
    "mystring = \"Data Science with Harshit\"\n",
    "print(mystring[5::2])"
   ]
  },
  {
   "cell_type": "markdown",
   "metadata": {},
   "source": [
    "Since we are indexing we need to from the 5 postion and also specifing output at every 2nd postion from the index 2\n",
    "we get the output as Sinewt asi"
   ]
  },
  {
   "cell_type": "markdown",
   "metadata": {},
   "source": [
    "## Q9: Is there any 'go' in MyString if yes, at what index?  \n",
    "\n",
    "`MyString = \"You should go to your home!\"`"
   ]
  },
  {
   "cell_type": "code",
   "execution_count": 17,
   "metadata": {},
   "outputs": [
    {
     "name": "stdout",
     "output_type": "stream",
     "text": [
      "11\n"
     ]
    }
   ],
   "source": [
    "# code and test below...\n",
    "MyString = \"You should go to your home!\"\n",
    "for char in MyString:\n",
    "    if char == 'go':\n",
    "        pass\n",
    "print(MyString.index('go'))\n"
   ]
  },
  {
   "cell_type": "markdown",
   "metadata": {},
   "source": [
    "At index 11 go word is present in the string "
   ]
  },
  {
   "cell_type": "markdown",
   "metadata": {},
   "source": [
    "## Q10: Evaluate the following expression and convert it to string object?\n",
    "\n",
    "`18 + 19 * 11`"
   ]
  },
  {
   "cell_type": "code",
   "execution_count": 18,
   "metadata": {},
   "outputs": [
    {
     "name": "stdout",
     "output_type": "stream",
     "text": [
      "227\n"
     ]
    }
   ],
   "source": [
    "# code and test below...\n",
    "nums = 18 + 19 * 11\n",
    "string = str(nums)\n",
    "print(string)"
   ]
  },
  {
   "cell_type": "code",
   "execution_count": 19,
   "metadata": {},
   "outputs": [
    {
     "data": {
      "text/plain": [
       "str"
      ]
     },
     "execution_count": 19,
     "metadata": {},
     "output_type": "execute_result"
    }
   ],
   "source": [
    "type(string)"
   ]
  },
  {
   "cell_type": "markdown",
   "metadata": {},
   "source": [
    "output is in the string type"
   ]
  },
  {
   "cell_type": "markdown",
   "metadata": {},
   "source": [
    "## Q11: Replace Harshit with your name in the statement below.\n",
    "\n",
    "`MyString = \"Data Science with Harshit\"`"
   ]
  },
  {
   "cell_type": "code",
   "execution_count": 24,
   "metadata": {},
   "outputs": [
    {
     "name": "stdout",
     "output_type": "stream",
     "text": [
      "Data Science with Sonali\n"
     ]
    }
   ],
   "source": [
    "# code and test below...\n",
    "name = \"Sonali\"\n",
    "MyString = \"Data Science with Harshit\"\n",
    "print(\"Data Science with \" + name)\n",
    "\n"
   ]
  },
  {
   "cell_type": "markdown",
   "metadata": {},
   "source": [
    "## Q12: Use the split() function to extract all the words of MyString in a list:\n",
    "\n",
    "`MyString = \"Data Science with Harshit\"`"
   ]
  },
  {
   "cell_type": "code",
   "execution_count": 25,
   "metadata": {},
   "outputs": [
    {
     "name": "stdout",
     "output_type": "stream",
     "text": [
      "['Data', 'Science', 'with', 'Harshit']\n"
     ]
    }
   ],
   "source": [
    "# code and test below...\n",
    "MyString = \"Data Science with Harshit\"\n",
    "print(MyString.split())\n"
   ]
  },
  {
   "cell_type": "markdown",
   "metadata": {},
   "source": [
    "## Q13: Extract the last element of the list without counting.\n",
    "\n",
    "`MyList = [23, 43, 56, 'tom', 'red', 65, 89, 90, 87]`"
   ]
  },
  {
   "cell_type": "code",
   "execution_count": 26,
   "metadata": {},
   "outputs": [
    {
     "name": "stdout",
     "output_type": "stream",
     "text": [
      "87\n"
     ]
    }
   ],
   "source": [
    "# code and test below...\n",
    "MyList = [23, 43, 56, 'tom', 'red', 65, 89, 90, 87]\n",
    "print(MyList[-1])\n"
   ]
  },
  {
   "cell_type": "markdown",
   "metadata": {},
   "source": [
    "## Q14: What is the length of the list below?\n",
    "\n",
    "`MyList = [23, 43, 56, 'tom', 'red', 65, 89, 90, 87]`"
   ]
  },
  {
   "cell_type": "code",
   "execution_count": 27,
   "metadata": {},
   "outputs": [
    {
     "name": "stdout",
     "output_type": "stream",
     "text": [
      "9\n"
     ]
    }
   ],
   "source": [
    "# code and test below...\n",
    "MyList = [23, 43, 56, 'tom', 'red', 65, 89, 90, 87]\n",
    "print(len(MyList))\n"
   ]
  },
  {
   "cell_type": "markdown",
   "metadata": {},
   "source": [
    "with using len python function we can fing the length of the list"
   ]
  },
  {
   "cell_type": "markdown",
   "metadata": {},
   "source": [
    "## Q15: Extract all the elements from 2nd index to 6th index.\n",
    "\n",
    "`MyList = [23, 43, 56, 'tom', 'red', 65, 89, 90, 87]`"
   ]
  },
  {
   "cell_type": "code",
   "execution_count": 29,
   "metadata": {},
   "outputs": [
    {
     "name": "stdout",
     "output_type": "stream",
     "text": [
      "[56, 'tom', 'red', 65, 89]\n"
     ]
    }
   ],
   "source": [
    "MyList = [23, 43, 56, 'tom', 'red', 65, 89, 90, 87]\n",
    "print(MyList[2:7])"
   ]
  },
  {
   "cell_type": "markdown",
   "metadata": {},
   "source": [
    "output is [56, 'tom', 'red', 65, 89]  "
   ]
  },
  {
   "cell_type": "markdown",
   "metadata": {},
   "source": [
    "## Q16: Extract all the elements except last 2 using slicing\n",
    "\n",
    "`MyList = [23, 43, 56, 'tom', 'red', 65, 89, 90, 87]`"
   ]
  },
  {
   "cell_type": "code",
   "execution_count": 30,
   "metadata": {},
   "outputs": [
    {
     "name": "stdout",
     "output_type": "stream",
     "text": [
      "[23, 43, 56, 'tom', 'red', 65, 89]\n"
     ]
    }
   ],
   "source": [
    "# code and test below...\n",
    "MyList = [23, 43, 56, 'tom', 'red', 65, 89, 90, 87]\n",
    "print(MyList[:-2])"
   ]
  },
  {
   "cell_type": "markdown",
   "metadata": {},
   "source": [
    "by indexing in the reverse order we can get the above output"
   ]
  },
  {
   "cell_type": "markdown",
   "metadata": {},
   "source": [
    "## Q17: Are lists mutable? (Yes/No)\n",
    "\n"
   ]
  },
  {
   "cell_type": "markdown",
   "metadata": {},
   "source": [
    "Yes, List are mutable. \n",
    "we can change an item in a list by accessing it directly as part of the assignment statement."
   ]
  },
  {
   "cell_type": "code",
   "execution_count": 54,
   "metadata": {},
   "outputs": [
    {
     "name": "stdout",
     "output_type": "stream",
     "text": [
      "['sonali', 2]\n"
     ]
    }
   ],
   "source": [
    "#code and test below...\n",
    "mylist = [1,2]\n",
    "mylist[0] = 'sonali'\n",
    "\n",
    "print(mylist)\n"
   ]
  },
  {
   "cell_type": "markdown",
   "metadata": {},
   "source": [
    "from the above example we get the say that list are mutable we can still change the value once the list is created "
   ]
  },
  {
   "cell_type": "markdown",
   "metadata": {},
   "source": [
    "## Q18: Sort the below list using the in-built list class function:\n",
    "\n",
    "`MyList = [23, 43, 56, 65, 89, 90, 87]`"
   ]
  },
  {
   "cell_type": "code",
   "execution_count": 33,
   "metadata": {},
   "outputs": [
    {
     "name": "stdout",
     "output_type": "stream",
     "text": [
      "[23, 43, 56, 65, 87, 89, 90]\n"
     ]
    }
   ],
   "source": [
    "# code and test below...\n",
    "MyList = [23, 43, 56, 65, 89, 90, 87]\n",
    "print(sorted(MyList))\n"
   ]
  },
  {
   "cell_type": "markdown",
   "metadata": {},
   "source": [
    "Using sorted fuction we can sort the list "
   ]
  },
  {
   "cell_type": "markdown",
   "metadata": {},
   "source": [
    "## Q19: Delete 'tom' and 'red' from the list using remove() function.\n",
    "\n",
    "`MyList = [23, 43, 56, 'tom', 'red', 65, 89, 90, 87]`"
   ]
  },
  {
   "cell_type": "code",
   "execution_count": 36,
   "metadata": {},
   "outputs": [
    {
     "name": "stdout",
     "output_type": "stream",
     "text": [
      "[23, 43, 56, 65, 89, 90, 87]\n"
     ]
    }
   ],
   "source": [
    "# code and test below...\n",
    "MyList = [23, 43, 56, 'tom', 'red', 65, 89, 90, 87]\n",
    "MyList.remove('tom')\n",
    "MyList.remove('red')\n",
    "\n",
    "print(MyList)"
   ]
  },
  {
   "cell_type": "markdown",
   "metadata": {},
   "source": [
    "Using remove fuction we can remve or delete the value from  the list"
   ]
  },
  {
   "cell_type": "markdown",
   "metadata": {},
   "source": [
    "## Q20: Tuples are mutable(True/False) \n",
    "\n"
   ]
  },
  {
   "cell_type": "markdown",
   "metadata": {},
   "source": [
    "False, Tuples are immutable, meaning that once a tuple has been created, the items in it can't change.\n"
   ]
  },
  {
   "cell_type": "code",
   "execution_count": 58,
   "metadata": {},
   "outputs": [
    {
     "ename": "TypeError",
     "evalue": "'tuple' object does not support item assignment",
     "output_type": "error",
     "traceback": [
      "\u001b[1;31m---------------------------------------------------------------------------\u001b[0m",
      "\u001b[1;31mTypeError\u001b[0m                                 Traceback (most recent call last)",
      "\u001b[1;32m<ipython-input-58-e205f913b99f>\u001b[0m in \u001b[0;36m<module>\u001b[1;34m\u001b[0m\n\u001b[0;32m      1\u001b[0m \u001b[1;31m#code and test below...\u001b[0m\u001b[1;33m\u001b[0m\u001b[1;33m\u001b[0m\u001b[1;33m\u001b[0m\u001b[0m\n\u001b[0;32m      2\u001b[0m \u001b[0mtuple1\u001b[0m \u001b[1;33m=\u001b[0m \u001b[1;33m(\u001b[0m\u001b[1;36m23\u001b[0m\u001b[1;33m,\u001b[0m \u001b[1;33m-\u001b[0m\u001b[1;36m1\u001b[0m\u001b[1;33m,\u001b[0m \u001b[1;36m34\u001b[0m\u001b[1;33m,\u001b[0m \u001b[1;33m[\u001b[0m\u001b[1;36m1\u001b[0m \u001b[1;33m,\u001b[0m \u001b[1;36m3\u001b[0m\u001b[1;33m]\u001b[0m \u001b[1;33m,\u001b[0m \u001b[1;36m90\u001b[0m\u001b[1;33m)\u001b[0m\u001b[1;33m\u001b[0m\u001b[1;33m\u001b[0m\u001b[0m\n\u001b[1;32m----> 3\u001b[1;33m \u001b[0mtuple1\u001b[0m\u001b[1;33m[\u001b[0m\u001b[1;36m5\u001b[0m\u001b[1;33m]\u001b[0m \u001b[1;33m=\u001b[0m \u001b[1;36m4\u001b[0m\u001b[1;33m\u001b[0m\u001b[1;33m\u001b[0m\u001b[0m\n\u001b[0m\u001b[0;32m      4\u001b[0m \u001b[0mprint\u001b[0m\u001b[1;33m(\u001b[0m\u001b[0mtuple1\u001b[0m\u001b[1;33m)\u001b[0m\u001b[1;33m\u001b[0m\u001b[1;33m\u001b[0m\u001b[0m\n",
      "\u001b[1;31mTypeError\u001b[0m: 'tuple' object does not support item assignment"
     ]
    }
   ],
   "source": [
    "#code and test below... \n",
    "tuple1 = (23, -1, 34, [1 , 3] , 90)\n",
    "tuple1[5] = 4\n",
    "print(tuple1)"
   ]
  },
  {
   "cell_type": "markdown",
   "metadata": {},
   "source": [
    "from the above example, its clear that tuple are immutable"
   ]
  },
  {
   "cell_type": "markdown",
   "metadata": {},
   "source": [
    "## Q21: From a tuple (23, -1, 34, [1 , 3] , 90), extract 3.\n",
    "\n"
   ]
  },
  {
   "cell_type": "code",
   "execution_count": 59,
   "metadata": {},
   "outputs": [
    {
     "name": "stdout",
     "output_type": "stream",
     "text": [
      "3\n"
     ]
    }
   ],
   "source": [
    "# code and test below...\n",
    "tuple1 = (23, -1, 34, [1 , 3] , 90)\n",
    "\n",
    "print(tuple1[3][1])\n"
   ]
  },
  {
   "cell_type": "markdown",
   "metadata": {},
   "source": [
    "since value 3 in tuple1 is in tuple of tuple so indexing it will be [3][1]"
   ]
  },
  {
   "cell_type": "markdown",
   "metadata": {},
   "source": [
    "## Q22: What is right method to clone a list? Create a clone the list below. `Imp` (Hint: slicing)\n",
    "\n",
    "`MyList = [23, 43, 56, 'tom', 'red', 65, 89, 90, 87]`"
   ]
  },
  {
   "cell_type": "markdown",
   "metadata": {},
   "source": [
    "there are serval way we can clone the list   \n",
    "1. slicing or indexing  \n",
    "2. extend()  \n",
    "3. list  "
   ]
  },
  {
   "cell_type": "code",
   "execution_count": 37,
   "metadata": {},
   "outputs": [
    {
     "data": {
      "text/plain": [
       "[23, 43, 56, 'tom', 'red', 65, 89, 90, 87]"
      ]
     },
     "execution_count": 37,
     "metadata": {},
     "output_type": "execute_result"
    }
   ],
   "source": [
    "# code and test below...\n",
    "MyList = [23, 43, 56, 'tom', 'red', 65, 89, 90, 87]\n",
    "MyList[:]"
   ]
  },
  {
   "cell_type": "markdown",
   "metadata": {},
   "source": [
    "Using slicing technique we can clone the list "
   ]
  },
  {
   "cell_type": "code",
   "execution_count": 63,
   "metadata": {},
   "outputs": [
    {
     "name": "stdout",
     "output_type": "stream",
     "text": [
      "[23, 43, 56, 'tom', 'red', 65, 89, 90, 87]\n"
     ]
    }
   ],
   "source": [
    "# extend method \n",
    "mylist_copy = []\n",
    "mylist_copy.extend(MyList)\n",
    "print(mylist_copy)"
   ]
  },
  {
   "cell_type": "markdown",
   "metadata": {},
   "source": [
    "Using extend method we can clone the list"
   ]
  },
  {
   "cell_type": "code",
   "execution_count": 64,
   "metadata": {},
   "outputs": [
    {
     "name": "stdout",
     "output_type": "stream",
     "text": [
      "[23, 43, 56, 'tom', 'red', 65, 89, 90, 87]\n"
     ]
    }
   ],
   "source": [
    "# list method \n",
    "mylist_copy = list(MyList)\n",
    "print(mylist_copy)"
   ]
  },
  {
   "cell_type": "markdown",
   "metadata": {},
   "source": [
    "Using list we can clone the list"
   ]
  },
  {
   "cell_type": "code",
   "execution_count": null,
   "metadata": {},
   "outputs": [],
   "source": []
  }
 ],
 "metadata": {
  "kernelspec": {
   "display_name": "Python 3",
   "language": "python",
   "name": "python3"
  },
  "language_info": {
   "codemirror_mode": {
    "name": "ipython",
    "version": 3
   },
   "file_extension": ".py",
   "mimetype": "text/x-python",
   "name": "python",
   "nbconvert_exporter": "python",
   "pygments_lexer": "ipython3",
   "version": "3.6.8"
  }
 },
 "nbformat": 4,
 "nbformat_minor": 2
}
