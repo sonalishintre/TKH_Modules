{
 "cells": [
  {
   "cell_type": "markdown",
   "metadata": {},
   "source": [
    "# Python fundamentals Exercises (Conditionals, Loops)\n",
    "\n",
    "The notebook intends to help you practice these concepts. Attempt honestly.\n",
    "\n",
    "Instructions/Suggestions:\n",
    "1. Don't forget to copy the expression from the Question to code cell!\n",
    "2. You can use the python documentation anytime you want to learn about a new function or attribute."
   ]
  },
  {
   "cell_type": "markdown",
   "metadata": {},
   "source": [
    "## Q1: What would be the output of the following code block?\n",
    "\n",
    "```python\n",
    "count = 4\n",
    "print(count == 2)\n",
    "print(count != 4)\n",
    "print(count > 4)\n",
    "print(count < 6)\n",
    "\n",
    "```\n"
   ]
  },
  {
   "cell_type": "code",
   "execution_count": 1,
   "metadata": {},
   "outputs": [
    {
     "name": "stdout",
     "output_type": "stream",
     "text": [
      "False\n",
      "False\n",
      "False\n",
      "True\n"
     ]
    }
   ],
   "source": [
    "# code and test below\n",
    "count = 4\n",
    "print(count == 2)\n",
    "print(count != 4)\n",
    "print(count > 4)\n",
    "print(count < 6)"
   ]
  },
  {
   "cell_type": "markdown",
   "metadata": {},
   "source": [
    "All the output values will be in the boolean form since we are checking the condition "
   ]
  },
  {
   "cell_type": "markdown",
   "metadata": {},
   "source": [
    "## Q2: What would be the output of the following code block?\n",
    "\n",
    "```python\n",
    "color = \"red\"\n",
    "category = \"fruit\"\n",
    "\n",
    "if color == \"red\" and category == \"fruit\":\n",
    "    print(\"We have an Apple!)\n",
    "\n",
    "if color == \"red\" and category == \"vegetable\":\n",
    "    print(\"We have tomatoes\")\n",
    "\n",
    "```\n"
   ]
  },
  {
   "cell_type": "code",
   "execution_count": 2,
   "metadata": {},
   "outputs": [
    {
     "ename": "SyntaxError",
     "evalue": "EOL while scanning string literal (<ipython-input-2-28d82267d165>, line 6)",
     "output_type": "error",
     "traceback": [
      "\u001b[1;36m  File \u001b[1;32m\"<ipython-input-2-28d82267d165>\"\u001b[1;36m, line \u001b[1;32m6\u001b[0m\n\u001b[1;33m    print(\"We have an Apple!)\u001b[0m\n\u001b[1;37m                             ^\u001b[0m\n\u001b[1;31mSyntaxError\u001b[0m\u001b[1;31m:\u001b[0m EOL while scanning string literal\n"
     ]
    }
   ],
   "source": [
    "# code and test below\n",
    "color = \"red\"\n",
    "category = \"fruit\"\n",
    "\n",
    "if color == \"red\" and category == \"fruit\":\n",
    "    print(\"We have an Apple!)\n",
    "\n",
    "if color == \"red\" and category == \"vegetable\":\n",
    "    print(\"We have tomatoes\")\n"
   ]
  },
  {
   "cell_type": "markdown",
   "metadata": {},
   "source": [
    "we will get the error, print statement is wrong\n",
    "the correct answer will be "
   ]
  },
  {
   "cell_type": "code",
   "execution_count": 3,
   "metadata": {},
   "outputs": [
    {
     "name": "stdout",
     "output_type": "stream",
     "text": [
      "We have an Apple!\n"
     ]
    }
   ],
   "source": [
    "# after correcting the code \n",
    "color = \"red\"\n",
    "category = \"fruit\"\n",
    "\n",
    "if color == \"red\" and category == \"fruit\":\n",
    "    print(\"We have an Apple!\")\n",
    "\n",
    "if color == \"red\" and category == \"vegetable\":\n",
    "    print(\"We have tomatoes\")"
   ]
  },
  {
   "cell_type": "markdown",
   "metadata": {},
   "source": [
    "## Q3: What would be the output of the following code block?\n",
    "\n",
    "```python\n",
    "requested = ['blueberry', 'banana']\n",
    "fruits = ['apple', 'banana', 'watermelon', 'kiwi', 'rasberry']\n",
    "\n",
    "if requested not in fruits:\n",
    "    print(\"Sorry, We don't have bananas in stock. Please review your order!\")\n",
    "\n",
    "else:\n",
    "    print(\"Order is placed!\")\n",
    "\n",
    "```"
   ]
  },
  {
   "cell_type": "code",
   "execution_count": 4,
   "metadata": {},
   "outputs": [
    {
     "name": "stdout",
     "output_type": "stream",
     "text": [
      "Sorry, We don't have bananas in stock. Please review your order!\n"
     ]
    }
   ],
   "source": [
    "# code and test below\n",
    "requested = ['blueberry', 'banana']\n",
    "fruits = ['apple', 'banana', 'watermelon', 'kiwi', 'rasberry']\n",
    "\n",
    "if requested not in fruits:\n",
    "    print(\"Sorry, We don't have bananas in stock. Please review your order!\")\n",
    "\n",
    "else:\n",
    "    print(\"Order is placed!\")  \n"
   ]
  },
  {
   "cell_type": "markdown",
   "metadata": {},
   "source": [
    "## Q4: What would be the output of the following code block?\n",
    "\n",
    "```python\n",
    "scores1 = [1,2,3]\n",
    "scores2 = [1,2,3]\n",
    "\n",
    "print(score1 == score2)\n",
    "\n",
    "```"
   ]
  },
  {
   "cell_type": "code",
   "execution_count": 5,
   "metadata": {},
   "outputs": [
    {
     "ename": "NameError",
     "evalue": "name 'score1' is not defined",
     "output_type": "error",
     "traceback": [
      "\u001b[1;31m---------------------------------------------------------------------------\u001b[0m",
      "\u001b[1;31mNameError\u001b[0m                                 Traceback (most recent call last)",
      "\u001b[1;32m<ipython-input-5-9032d989e0e7>\u001b[0m in \u001b[0;36m<module>\u001b[1;34m\u001b[0m\n\u001b[0;32m      3\u001b[0m \u001b[0mscores2\u001b[0m \u001b[1;33m=\u001b[0m \u001b[1;33m[\u001b[0m\u001b[1;36m1\u001b[0m\u001b[1;33m,\u001b[0m\u001b[1;36m2\u001b[0m\u001b[1;33m,\u001b[0m\u001b[1;36m3\u001b[0m\u001b[1;33m]\u001b[0m\u001b[1;33m\u001b[0m\u001b[1;33m\u001b[0m\u001b[0m\n\u001b[0;32m      4\u001b[0m \u001b[1;33m\u001b[0m\u001b[0m\n\u001b[1;32m----> 5\u001b[1;33m \u001b[0mprint\u001b[0m\u001b[1;33m(\u001b[0m\u001b[0mscore1\u001b[0m \u001b[1;33m==\u001b[0m \u001b[0mscore2\u001b[0m\u001b[1;33m)\u001b[0m\u001b[1;33m\u001b[0m\u001b[1;33m\u001b[0m\u001b[0m\n\u001b[0m",
      "\u001b[1;31mNameError\u001b[0m: name 'score1' is not defined"
     ]
    }
   ],
   "source": [
    "# code and test below\n",
    "scores1 = [1,2,3]\n",
    "scores2 = [1,2,3]\n",
    "\n",
    "print(score1 == score2)\n"
   ]
  },
  {
   "cell_type": "markdown",
   "metadata": {},
   "source": [
    "there is an error in the following code the spelling of mistake in print statement  \n",
    "it will corrected as \n"
   ]
  },
  {
   "cell_type": "code",
   "execution_count": 6,
   "metadata": {},
   "outputs": [
    {
     "name": "stdout",
     "output_type": "stream",
     "text": [
      "True\n"
     ]
    }
   ],
   "source": [
    "scores1 = [1,2,3]\n",
    "scores2 = [1,2,3]\n",
    "\n",
    "print(scores1 == scores2)"
   ]
  },
  {
   "cell_type": "markdown",
   "metadata": {},
   "source": [
    "Output will be in boolean which the values in both scores1 and scores2"
   ]
  },
  {
   "cell_type": "markdown",
   "metadata": {},
   "source": [
    "## Q5: What would be the output of the following code block? Learn about 'is' operator.\n",
    "\n",
    "```python\n",
    "scores1 = [1,2,3]\n",
    "scores2 = [1,2,3]\n",
    "\n",
    "print(score1 == score2)\n",
    "print(score1 is score2)\n",
    "\n",
    "```"
   ]
  },
  {
   "cell_type": "code",
   "execution_count": 7,
   "metadata": {},
   "outputs": [
    {
     "ename": "NameError",
     "evalue": "name 'score1' is not defined",
     "output_type": "error",
     "traceback": [
      "\u001b[1;31m---------------------------------------------------------------------------\u001b[0m",
      "\u001b[1;31mNameError\u001b[0m                                 Traceback (most recent call last)",
      "\u001b[1;32m<ipython-input-7-09fd02e28fb7>\u001b[0m in \u001b[0;36m<module>\u001b[1;34m\u001b[0m\n\u001b[0;32m      3\u001b[0m \u001b[0mscores2\u001b[0m \u001b[1;33m=\u001b[0m \u001b[1;33m[\u001b[0m\u001b[1;36m1\u001b[0m\u001b[1;33m,\u001b[0m\u001b[1;36m2\u001b[0m\u001b[1;33m,\u001b[0m\u001b[1;36m3\u001b[0m\u001b[1;33m]\u001b[0m\u001b[1;33m\u001b[0m\u001b[1;33m\u001b[0m\u001b[0m\n\u001b[0;32m      4\u001b[0m \u001b[1;33m\u001b[0m\u001b[0m\n\u001b[1;32m----> 5\u001b[1;33m \u001b[0mprint\u001b[0m\u001b[1;33m(\u001b[0m\u001b[0mscore1\u001b[0m \u001b[1;33m==\u001b[0m \u001b[0mscore2\u001b[0m\u001b[1;33m)\u001b[0m\u001b[1;33m\u001b[0m\u001b[1;33m\u001b[0m\u001b[0m\n\u001b[0m\u001b[0;32m      6\u001b[0m \u001b[0mprint\u001b[0m\u001b[1;33m(\u001b[0m\u001b[0mscore1\u001b[0m \u001b[1;32mis\u001b[0m \u001b[0mscore2\u001b[0m\u001b[1;33m)\u001b[0m\u001b[1;33m\u001b[0m\u001b[1;33m\u001b[0m\u001b[0m\n",
      "\u001b[1;31mNameError\u001b[0m: name 'score1' is not defined"
     ]
    }
   ],
   "source": [
    "# code and test below\n",
    "scores1 = [1,2,3]\n",
    "scores2 = [1,2,3]\n",
    "\n",
    "print(score1 == score2)\n",
    "print(score1 is score2)\n"
   ]
  },
  {
   "cell_type": "code",
   "execution_count": 10,
   "metadata": {},
   "outputs": [
    {
     "name": "stdout",
     "output_type": "stream",
     "text": [
      "True\n",
      "False\n"
     ]
    }
   ],
   "source": [
    "# code and test below\n",
    "scores1 = [1,2,3]\n",
    "scores2 = [1,2,3]\n",
    "\n",
    "print(scores1 == scores2)\n",
    "print(scores1 is scores2)"
   ]
  },
  {
   "cell_type": "markdown",
   "metadata": {},
   "source": [
    "## Q6: Print the following pattern using for loops:\n",
    "\n",
    "*\n",
    "**\n",
    "***\n",
    "****\n",
    ".\n",
    ".\n",
    ".\n",
    "*****....*(n times)\n",
    "\n"
   ]
  },
  {
   "cell_type": "code",
   "execution_count": 29,
   "metadata": {
    "scrolled": true
   },
   "outputs": [
    {
     "name": "stdout",
     "output_type": "stream",
     "text": [
      "enter the n value:10\n",
      "\n",
      "*\n",
      "**\n",
      "***\n",
      "****\n",
      "*****\n",
      "******\n",
      "*******\n",
      "********\n",
      "*********\n",
      "**********\n"
     ]
    }
   ],
   "source": [
    "# code and test below\n",
    "\n",
    "list1 = []\n",
    "n = int(input(\"enter the n value:\"))\n",
    "for i in range(0,n+1):\n",
    "    list1.append(\"*\"* i)\n",
    "print(\"\\n\" .join(list1))"
   ]
  },
  {
   "cell_type": "code",
   "execution_count": 26,
   "metadata": {},
   "outputs": [
    {
     "name": "stdout",
     "output_type": "stream",
     "text": [
      "\n",
      "*\n",
      "**\n",
      "***\n",
      "****\n"
     ]
    }
   ],
   "source": [
    "list1 = []\n",
    "n = 4\n",
    "for i in range(0,n+1):\n",
    "    list1.append(\"*\"* i)\n",
    "print(\"\\n\" .join(list1))"
   ]
  },
  {
   "cell_type": "code",
   "execution_count": 27,
   "metadata": {},
   "outputs": [
    {
     "ename": "SyntaxError",
     "evalue": "invalid syntax (<ipython-input-27-ed3376106f6e>, line 3)",
     "output_type": "error",
     "traceback": [
      "\u001b[1;36m  File \u001b[1;32m\"<ipython-input-27-ed3376106f6e>\"\u001b[1;36m, line \u001b[1;32m3\u001b[0m\n\u001b[1;33m    ```python\u001b[0m\n\u001b[1;37m    ^\u001b[0m\n\u001b[1;31mSyntaxError\u001b[0m\u001b[1;31m:\u001b[0m invalid syntax\n"
     ]
    }
   ],
   "source": [
    "## Q3: What would be the output of the following code block?\n",
    "\n",
    "```python\n",
    "scores = [67, 90, 89, 78, 99, 100]\n",
    "for score  in \n",
    "\n",
    "```"
   ]
  },
  {
   "cell_type": "markdown",
   "metadata": {},
   "source": [
    "invalied syntax and correct format is "
   ]
  },
  {
   "cell_type": "code",
   "execution_count": 28,
   "metadata": {},
   "outputs": [
    {
     "name": "stdout",
     "output_type": "stream",
     "text": [
      "67\n",
      "90\n",
      "89\n",
      "78\n",
      "99\n",
      "100\n"
     ]
    }
   ],
   "source": [
    "# code and test below\n",
    "\n",
    "scores = [67, 90, 89, 78, 99, 100]\n",
    "for score  in scores:\n",
    "    print(score)"
   ]
  },
  {
   "cell_type": "code",
   "execution_count": null,
   "metadata": {},
   "outputs": [],
   "source": []
  },
  {
   "cell_type": "code",
   "execution_count": null,
   "metadata": {},
   "outputs": [],
   "source": []
  },
  {
   "cell_type": "code",
   "execution_count": null,
   "metadata": {},
   "outputs": [],
   "source": []
  },
  {
   "cell_type": "code",
   "execution_count": null,
   "metadata": {},
   "outputs": [],
   "source": []
  }
 ],
 "metadata": {
  "kernelspec": {
   "display_name": "Python 3",
   "language": "python",
   "name": "python3"
  },
  "language_info": {
   "codemirror_mode": {
    "name": "ipython",
    "version": 3
   },
   "file_extension": ".py",
   "mimetype": "text/x-python",
   "name": "python",
   "nbconvert_exporter": "python",
   "pygments_lexer": "ipython3",
   "version": "3.6.8"
  }
 },
 "nbformat": 4,
 "nbformat_minor": 2
}
